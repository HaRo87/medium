{
 "cells": [
  {
   "cell_type": "code",
   "execution_count": 14,
   "id": "3260b3dd-bd45-4c59-8446-5ef31b8528a6",
   "metadata": {},
   "outputs": [],
   "source": [
    "import json\n",
    "import pprint\n",
    "from datetime import date\n",
    "from random import randrange\n",
    "from faker import Faker"
   ]
  },
  {
   "cell_type": "code",
   "execution_count": 2,
   "id": "871e3161-36b7-4a85-8387-e710e80ee7b5",
   "metadata": {},
   "outputs": [],
   "source": [
    "fake = Faker()"
   ]
  },
  {
   "cell_type": "code",
   "execution_count": 6,
   "id": "3b1dd11e-fbb8-4280-be97-888ca70b634f",
   "metadata": {},
   "outputs": [
    {
     "name": "stdout",
     "output_type": "stream",
     "text": [
      "Morgan, Tran and Johnson\n",
      "Vargas, Luna and Lopez\n",
      "Gibson and Sons\n",
      "Gibbs, Curtis and Christensen\n",
      "Brown-Bass\n",
      "Dorsey, Mahoney and Williams\n",
      "Peterson Inc\n",
      "Escobar, Davenport and Robinson\n",
      "Ramirez, Williamson and Knight\n",
      "Peters-Hutchinson\n"
     ]
    }
   ],
   "source": [
    "for i in range(10):\n",
    "    print(fake.company())"
   ]
  },
  {
   "cell_type": "code",
   "execution_count": 8,
   "id": "941e87e6-f9f5-4a6a-8b2c-11296f641387",
   "metadata": {},
   "outputs": [],
   "source": [
    "class Member:\n",
    "    def to_json(self):\n",
    "        return json.dumps(self, default=lambda e: e.__dict__)"
   ]
  },
  {
   "cell_type": "code",
   "execution_count": 9,
   "id": "ce0ca80b-e330-4a92-854b-82100b17008a",
   "metadata": {},
   "outputs": [],
   "source": [
    "NUM_FAKE_MEMBERS = 1000\n",
    "NUM_FAKE_COMPANIES = 400\n",
    "NUM_FAKE_EMAIL_DOMAINS = 100"
   ]
  },
  {
   "cell_type": "code",
   "execution_count": 10,
   "id": "846c81b7-3697-454d-99a8-05d3049f0ec4",
   "metadata": {},
   "outputs": [],
   "source": [
    "companies = [ f\"{fake.company()} ({fake.company_suffix()})\" for _ in range(NUM_FAKE_COMPANIES) ]\n",
    "mail_domains = [ fake.free_email_domain() for _ in range(NUM_FAKE_EMAIL_DOMAINS) ]"
   ]
  },
  {
   "cell_type": "code",
   "execution_count": 11,
   "id": "9b9e5cc7-dbcd-4463-b105-183db80991f3",
   "metadata": {},
   "outputs": [],
   "source": [
    "members = []\n",
    "for _ in range(NUM_FAKE_MEMBERS):\n",
    "    member = Member()\n",
    "    company = randrange(0, NUM_FAKE_COMPANIES - 1)\n",
    "    email_domain = randrange(0, NUM_FAKE_EMAIL_DOMAINS - 1)\n",
    "    name = fake.name()\n",
    "    email_name = name.replace(\" \", \".\")\n",
    "    member.date = fake.date_between(start_date=date(2010, 1, 1)).strftime(\"%Y-%m-%d\")\n",
    "    member.id = fake.bothify(text=\"???#######\", letters=\"ABCDEF\")\n",
    "    member.member = Member()\n",
    "    member.member.name = name\n",
    "    member.member.company = companies[company]\n",
    "    member.member.mail = f\"{email_name}@{mail_domains[email_domain]}\"\n",
    "    members.append(member.to_json())"
   ]
  },
  {
   "cell_type": "code",
   "execution_count": 12,
   "id": "e7ec4fbe-9caf-403a-8210-627436c41d39",
   "metadata": {},
   "outputs": [
    {
     "name": "stdout",
     "output_type": "stream",
     "text": [
      "{\"date\": \"2021-05-02\", \"id\": \"DDD9636493\", \"member\": {\"name\": \"Anthony Bullock\", \"company\": \"Brown, Johnson and Pearson (PLC)\", \"mail\": \"Anthony.Bullock@yahoo.com\"}}\n"
     ]
    }
   ],
   "source": [
    "print(members[0])"
   ]
  },
  {
   "cell_type": "code",
   "execution_count": 17,
   "id": "80417d1a-43ac-4be8-8a70-897803514a08",
   "metadata": {},
   "outputs": [
    {
     "name": "stdout",
     "output_type": "stream",
     "text": [
      "Johnson, Delacruz and Daugherty\n"
     ]
    }
   ],
   "source": [
    "print(companies[1])"
   ]
  },
  {
   "cell_type": "code",
   "execution_count": 19,
   "id": "e9c99d74-da14-4849-9d48-b283e482d295",
   "metadata": {},
   "outputs": [],
   "source": [
    "with open(\"fake_data.json\", \"w\") as outfile:\n",
    "    outfile.write(pprint.pformat(json.dumps(members), compact=True).replace(\"'\",'\"'))"
   ]
  },
  {
   "cell_type": "code",
   "execution_count": null,
   "id": "b5135410-60aa-4ce8-b5c1-c7532db09b38",
   "metadata": {},
   "outputs": [],
   "source": []
  }
 ],
 "metadata": {
  "kernelspec": {
   "display_name": "Python 3 (ipykernel)",
   "language": "python",
   "name": "python3"
  },
  "language_info": {
   "codemirror_mode": {
    "name": "ipython",
    "version": 3
   },
   "file_extension": ".py",
   "mimetype": "text/x-python",
   "name": "python",
   "nbconvert_exporter": "python",
   "pygments_lexer": "ipython3",
   "version": "3.8.20"
  }
 },
 "nbformat": 4,
 "nbformat_minor": 5
}
